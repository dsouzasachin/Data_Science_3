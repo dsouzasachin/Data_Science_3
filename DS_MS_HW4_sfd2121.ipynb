{
  "nbformat": 4,
  "nbformat_minor": 0,
  "metadata": {
    "colab": {
      "name": " DSHW4_sfd2121.ipynb",
      "provenance": [],
      "collapsed_sections": []
    },
    "kernelspec": {
      "name": "python3",
      "display_name": "Python 3"
    },
    "language_info": {
      "name": "python"
    }
  },
  "cells": [
    {
      "cell_type": "code",
      "metadata": {
        "id": "mm18r4ajis1l"
      },
      "source": [
        "%matplotlib notebook\n",
        "import matplotlib.pyplot as plt\n",
        "import numpy as np\n",
        "from sklearn import tree\n",
        "import pandas as pd\n",
        "import seaborn as sns\n",
        "import graphviz\n",
        "from typing import Tuple\n",
        "from sklearn.metrics import roc_auc_score\n",
        "from sklearn.model_selection import train_test_split\n",
        "from sklearn.preprocessing import StandardScaler\n",
        "from keras.models import Sequential\n",
        "from keras.layers import Dense, Activation\n",
        "\n",
        "\n",
        "sns.set(font_scale=1.5)\n",
        "sns.set_style(\"whitegrid\", {'grid.linestyle':'--'})"
      ],
      "execution_count": 5,
      "outputs": []
    },
    {
      "cell_type": "markdown",
      "metadata": {
        "id": "6q5VuxUMiPM4"
      },
      "source": [
        "***PROBLEM 1***"
      ]
    },
    {
      "cell_type": "code",
      "metadata": {
        "colab": {
          "base_uri": "https://localhost:8080/",
          "height": 0
        },
        "id": "iOEyWQRDjBZ7",
        "outputId": "0236c2f1-dc36-4f99-dbd1-31a2319d4a81"
      },
      "source": [
        "cancer = pd.read_csv(\"/breast_cancer_data.csv\")\n",
        "cancer[\"label\"] = cancer[\"diagnosis\"].apply(lambda x: 0 if x == \"B\" else 1)\n",
        "len(cancer['id'])"
      ],
      "execution_count": 6,
      "outputs": [
        {
          "output_type": "execute_result",
          "data": {
            "text/plain": [
              "569"
            ]
          },
          "metadata": {},
          "execution_count": 6
        }
      ]
    },
    {
      "cell_type": "code",
      "metadata": {
        "colab": {
          "base_uri": "https://localhost:8080/",
          "height": 226
        },
        "id": "sHpu9cU3jNcR",
        "outputId": "9fa691f5-e1b1-4716-c588-3a3a4476aa2c"
      },
      "source": [
        "cancer.head()"
      ],
      "execution_count": 7,
      "outputs": [
        {
          "output_type": "execute_result",
          "data": {
            "text/html": [
              "<div>\n",
              "<style scoped>\n",
              "    .dataframe tbody tr th:only-of-type {\n",
              "        vertical-align: middle;\n",
              "    }\n",
              "\n",
              "    .dataframe tbody tr th {\n",
              "        vertical-align: top;\n",
              "    }\n",
              "\n",
              "    .dataframe thead th {\n",
              "        text-align: right;\n",
              "    }\n",
              "</style>\n",
              "<table border=\"1\" class=\"dataframe\">\n",
              "  <thead>\n",
              "    <tr style=\"text-align: right;\">\n",
              "      <th></th>\n",
              "      <th>id</th>\n",
              "      <th>diagnosis</th>\n",
              "      <th>radius_mean</th>\n",
              "      <th>texture_mean</th>\n",
              "      <th>perimeter_mean</th>\n",
              "      <th>area_mean</th>\n",
              "      <th>smoothness_mean</th>\n",
              "      <th>compactness_mean</th>\n",
              "      <th>concavity_mean</th>\n",
              "      <th>concave_mean</th>\n",
              "      <th>symmetry_mean</th>\n",
              "      <th>fractal_mean</th>\n",
              "      <th>radius_se</th>\n",
              "      <th>texture_se</th>\n",
              "      <th>perimeter_se</th>\n",
              "      <th>area_se</th>\n",
              "      <th>smoothness_se</th>\n",
              "      <th>compactness_se</th>\n",
              "      <th>concavity_se</th>\n",
              "      <th>concave_se</th>\n",
              "      <th>symmetry_se</th>\n",
              "      <th>fractal_se</th>\n",
              "      <th>radius_extreme</th>\n",
              "      <th>texture_extreme</th>\n",
              "      <th>perimeter_extreme</th>\n",
              "      <th>area_extreme</th>\n",
              "      <th>smoothness_extreme</th>\n",
              "      <th>compactness_extreme</th>\n",
              "      <th>concavity_extreme</th>\n",
              "      <th>concave_extreme</th>\n",
              "      <th>symmetry_extreme</th>\n",
              "      <th>fractal_extreme</th>\n",
              "      <th>label</th>\n",
              "    </tr>\n",
              "  </thead>\n",
              "  <tbody>\n",
              "    <tr>\n",
              "      <th>0</th>\n",
              "      <td>842302</td>\n",
              "      <td>M</td>\n",
              "      <td>17.99</td>\n",
              "      <td>10.38</td>\n",
              "      <td>122.80</td>\n",
              "      <td>1001.0</td>\n",
              "      <td>0.11840</td>\n",
              "      <td>0.27760</td>\n",
              "      <td>0.3001</td>\n",
              "      <td>0.14710</td>\n",
              "      <td>0.2419</td>\n",
              "      <td>0.07871</td>\n",
              "      <td>1.0950</td>\n",
              "      <td>0.9053</td>\n",
              "      <td>8.589</td>\n",
              "      <td>153.40</td>\n",
              "      <td>0.006399</td>\n",
              "      <td>0.04904</td>\n",
              "      <td>0.05373</td>\n",
              "      <td>0.01587</td>\n",
              "      <td>0.03003</td>\n",
              "      <td>0.006193</td>\n",
              "      <td>25.38</td>\n",
              "      <td>17.33</td>\n",
              "      <td>184.60</td>\n",
              "      <td>2019.0</td>\n",
              "      <td>0.1622</td>\n",
              "      <td>0.6656</td>\n",
              "      <td>0.7119</td>\n",
              "      <td>0.2654</td>\n",
              "      <td>0.4601</td>\n",
              "      <td>0.11890</td>\n",
              "      <td>1</td>\n",
              "    </tr>\n",
              "    <tr>\n",
              "      <th>1</th>\n",
              "      <td>842517</td>\n",
              "      <td>M</td>\n",
              "      <td>20.57</td>\n",
              "      <td>17.77</td>\n",
              "      <td>132.90</td>\n",
              "      <td>1326.0</td>\n",
              "      <td>0.08474</td>\n",
              "      <td>0.07864</td>\n",
              "      <td>0.0869</td>\n",
              "      <td>0.07017</td>\n",
              "      <td>0.1812</td>\n",
              "      <td>0.05667</td>\n",
              "      <td>0.5435</td>\n",
              "      <td>0.7339</td>\n",
              "      <td>3.398</td>\n",
              "      <td>74.08</td>\n",
              "      <td>0.005225</td>\n",
              "      <td>0.01308</td>\n",
              "      <td>0.01860</td>\n",
              "      <td>0.01340</td>\n",
              "      <td>0.01389</td>\n",
              "      <td>0.003532</td>\n",
              "      <td>24.99</td>\n",
              "      <td>23.41</td>\n",
              "      <td>158.80</td>\n",
              "      <td>1956.0</td>\n",
              "      <td>0.1238</td>\n",
              "      <td>0.1866</td>\n",
              "      <td>0.2416</td>\n",
              "      <td>0.1860</td>\n",
              "      <td>0.2750</td>\n",
              "      <td>0.08902</td>\n",
              "      <td>1</td>\n",
              "    </tr>\n",
              "    <tr>\n",
              "      <th>2</th>\n",
              "      <td>84300903</td>\n",
              "      <td>M</td>\n",
              "      <td>19.69</td>\n",
              "      <td>21.25</td>\n",
              "      <td>130.00</td>\n",
              "      <td>1203.0</td>\n",
              "      <td>0.10960</td>\n",
              "      <td>0.15990</td>\n",
              "      <td>0.1974</td>\n",
              "      <td>0.12790</td>\n",
              "      <td>0.2069</td>\n",
              "      <td>0.05999</td>\n",
              "      <td>0.7456</td>\n",
              "      <td>0.7869</td>\n",
              "      <td>4.585</td>\n",
              "      <td>94.03</td>\n",
              "      <td>0.006150</td>\n",
              "      <td>0.04006</td>\n",
              "      <td>0.03832</td>\n",
              "      <td>0.02058</td>\n",
              "      <td>0.02250</td>\n",
              "      <td>0.004571</td>\n",
              "      <td>23.57</td>\n",
              "      <td>25.53</td>\n",
              "      <td>152.50</td>\n",
              "      <td>1709.0</td>\n",
              "      <td>0.1444</td>\n",
              "      <td>0.4245</td>\n",
              "      <td>0.4504</td>\n",
              "      <td>0.2430</td>\n",
              "      <td>0.3613</td>\n",
              "      <td>0.08758</td>\n",
              "      <td>1</td>\n",
              "    </tr>\n",
              "    <tr>\n",
              "      <th>3</th>\n",
              "      <td>84348301</td>\n",
              "      <td>M</td>\n",
              "      <td>11.42</td>\n",
              "      <td>20.38</td>\n",
              "      <td>77.58</td>\n",
              "      <td>386.1</td>\n",
              "      <td>0.14250</td>\n",
              "      <td>0.28390</td>\n",
              "      <td>0.2414</td>\n",
              "      <td>0.10520</td>\n",
              "      <td>0.2597</td>\n",
              "      <td>0.09744</td>\n",
              "      <td>0.4956</td>\n",
              "      <td>1.1560</td>\n",
              "      <td>3.445</td>\n",
              "      <td>27.23</td>\n",
              "      <td>0.009110</td>\n",
              "      <td>0.07458</td>\n",
              "      <td>0.05661</td>\n",
              "      <td>0.01867</td>\n",
              "      <td>0.05963</td>\n",
              "      <td>0.009208</td>\n",
              "      <td>14.91</td>\n",
              "      <td>26.50</td>\n",
              "      <td>98.87</td>\n",
              "      <td>567.7</td>\n",
              "      <td>0.2098</td>\n",
              "      <td>0.8663</td>\n",
              "      <td>0.6869</td>\n",
              "      <td>0.2575</td>\n",
              "      <td>0.6638</td>\n",
              "      <td>0.17300</td>\n",
              "      <td>1</td>\n",
              "    </tr>\n",
              "    <tr>\n",
              "      <th>4</th>\n",
              "      <td>84358402</td>\n",
              "      <td>M</td>\n",
              "      <td>20.29</td>\n",
              "      <td>14.34</td>\n",
              "      <td>135.10</td>\n",
              "      <td>1297.0</td>\n",
              "      <td>0.10030</td>\n",
              "      <td>0.13280</td>\n",
              "      <td>0.1980</td>\n",
              "      <td>0.10430</td>\n",
              "      <td>0.1809</td>\n",
              "      <td>0.05883</td>\n",
              "      <td>0.7572</td>\n",
              "      <td>0.7813</td>\n",
              "      <td>5.438</td>\n",
              "      <td>94.44</td>\n",
              "      <td>0.011490</td>\n",
              "      <td>0.02461</td>\n",
              "      <td>0.05688</td>\n",
              "      <td>0.01885</td>\n",
              "      <td>0.01756</td>\n",
              "      <td>0.005115</td>\n",
              "      <td>22.54</td>\n",
              "      <td>16.67</td>\n",
              "      <td>152.20</td>\n",
              "      <td>1575.0</td>\n",
              "      <td>0.1374</td>\n",
              "      <td>0.2050</td>\n",
              "      <td>0.4000</td>\n",
              "      <td>0.1625</td>\n",
              "      <td>0.2364</td>\n",
              "      <td>0.07678</td>\n",
              "      <td>1</td>\n",
              "    </tr>\n",
              "  </tbody>\n",
              "</table>\n",
              "</div>"
            ],
            "text/plain": [
              "         id diagnosis  radius_mean  ...  symmetry_extreme  fractal_extreme  label\n",
              "0    842302         M        17.99  ...            0.4601          0.11890      1\n",
              "1    842517         M        20.57  ...            0.2750          0.08902      1\n",
              "2  84300903         M        19.69  ...            0.3613          0.08758      1\n",
              "3  84348301         M        11.42  ...            0.6638          0.17300      1\n",
              "4  84358402         M        20.29  ...            0.2364          0.07678      1\n",
              "\n",
              "[5 rows x 33 columns]"
            ]
          },
          "metadata": {},
          "execution_count": 7
        }
      ]
    },
    {
      "cell_type": "code",
      "metadata": {
        "colab": {
          "base_uri": "https://localhost:8080/",
          "height": 0
        },
        "id": "8GCtwKMZjQnO",
        "outputId": "d27fcd6d-74b1-491c-a71e-4786055f3ce1"
      },
      "source": [
        "column = cancer[\"texture_mean\"]\n",
        "maximum = column.max()\n",
        "minimum = column.min()\n",
        "print(maximum, minimum)"
      ],
      "execution_count": 8,
      "outputs": [
        {
          "output_type": "stream",
          "name": "stdout",
          "text": [
            "39.28 9.71\n"
          ]
        }
      ]
    },
    {
      "cell_type": "code",
      "metadata": {
        "colab": {
          "base_uri": "https://localhost:8080/",
          "height": 226
        },
        "id": "gODwnWc8jS8m",
        "outputId": "6bcc75ca-aca7-4685-8246-94b1274b9c89"
      },
      "source": [
        "cancer.diagnosis = [1 if i==\"M\" else 0 for i in cancer.diagnosis]\n",
        "cancer.head()"
      ],
      "execution_count": 9,
      "outputs": [
        {
          "output_type": "execute_result",
          "data": {
            "text/html": [
              "<div>\n",
              "<style scoped>\n",
              "    .dataframe tbody tr th:only-of-type {\n",
              "        vertical-align: middle;\n",
              "    }\n",
              "\n",
              "    .dataframe tbody tr th {\n",
              "        vertical-align: top;\n",
              "    }\n",
              "\n",
              "    .dataframe thead th {\n",
              "        text-align: right;\n",
              "    }\n",
              "</style>\n",
              "<table border=\"1\" class=\"dataframe\">\n",
              "  <thead>\n",
              "    <tr style=\"text-align: right;\">\n",
              "      <th></th>\n",
              "      <th>id</th>\n",
              "      <th>diagnosis</th>\n",
              "      <th>radius_mean</th>\n",
              "      <th>texture_mean</th>\n",
              "      <th>perimeter_mean</th>\n",
              "      <th>area_mean</th>\n",
              "      <th>smoothness_mean</th>\n",
              "      <th>compactness_mean</th>\n",
              "      <th>concavity_mean</th>\n",
              "      <th>concave_mean</th>\n",
              "      <th>symmetry_mean</th>\n",
              "      <th>fractal_mean</th>\n",
              "      <th>radius_se</th>\n",
              "      <th>texture_se</th>\n",
              "      <th>perimeter_se</th>\n",
              "      <th>area_se</th>\n",
              "      <th>smoothness_se</th>\n",
              "      <th>compactness_se</th>\n",
              "      <th>concavity_se</th>\n",
              "      <th>concave_se</th>\n",
              "      <th>symmetry_se</th>\n",
              "      <th>fractal_se</th>\n",
              "      <th>radius_extreme</th>\n",
              "      <th>texture_extreme</th>\n",
              "      <th>perimeter_extreme</th>\n",
              "      <th>area_extreme</th>\n",
              "      <th>smoothness_extreme</th>\n",
              "      <th>compactness_extreme</th>\n",
              "      <th>concavity_extreme</th>\n",
              "      <th>concave_extreme</th>\n",
              "      <th>symmetry_extreme</th>\n",
              "      <th>fractal_extreme</th>\n",
              "      <th>label</th>\n",
              "    </tr>\n",
              "  </thead>\n",
              "  <tbody>\n",
              "    <tr>\n",
              "      <th>0</th>\n",
              "      <td>842302</td>\n",
              "      <td>1</td>\n",
              "      <td>17.99</td>\n",
              "      <td>10.38</td>\n",
              "      <td>122.80</td>\n",
              "      <td>1001.0</td>\n",
              "      <td>0.11840</td>\n",
              "      <td>0.27760</td>\n",
              "      <td>0.3001</td>\n",
              "      <td>0.14710</td>\n",
              "      <td>0.2419</td>\n",
              "      <td>0.07871</td>\n",
              "      <td>1.0950</td>\n",
              "      <td>0.9053</td>\n",
              "      <td>8.589</td>\n",
              "      <td>153.40</td>\n",
              "      <td>0.006399</td>\n",
              "      <td>0.04904</td>\n",
              "      <td>0.05373</td>\n",
              "      <td>0.01587</td>\n",
              "      <td>0.03003</td>\n",
              "      <td>0.006193</td>\n",
              "      <td>25.38</td>\n",
              "      <td>17.33</td>\n",
              "      <td>184.60</td>\n",
              "      <td>2019.0</td>\n",
              "      <td>0.1622</td>\n",
              "      <td>0.6656</td>\n",
              "      <td>0.7119</td>\n",
              "      <td>0.2654</td>\n",
              "      <td>0.4601</td>\n",
              "      <td>0.11890</td>\n",
              "      <td>1</td>\n",
              "    </tr>\n",
              "    <tr>\n",
              "      <th>1</th>\n",
              "      <td>842517</td>\n",
              "      <td>1</td>\n",
              "      <td>20.57</td>\n",
              "      <td>17.77</td>\n",
              "      <td>132.90</td>\n",
              "      <td>1326.0</td>\n",
              "      <td>0.08474</td>\n",
              "      <td>0.07864</td>\n",
              "      <td>0.0869</td>\n",
              "      <td>0.07017</td>\n",
              "      <td>0.1812</td>\n",
              "      <td>0.05667</td>\n",
              "      <td>0.5435</td>\n",
              "      <td>0.7339</td>\n",
              "      <td>3.398</td>\n",
              "      <td>74.08</td>\n",
              "      <td>0.005225</td>\n",
              "      <td>0.01308</td>\n",
              "      <td>0.01860</td>\n",
              "      <td>0.01340</td>\n",
              "      <td>0.01389</td>\n",
              "      <td>0.003532</td>\n",
              "      <td>24.99</td>\n",
              "      <td>23.41</td>\n",
              "      <td>158.80</td>\n",
              "      <td>1956.0</td>\n",
              "      <td>0.1238</td>\n",
              "      <td>0.1866</td>\n",
              "      <td>0.2416</td>\n",
              "      <td>0.1860</td>\n",
              "      <td>0.2750</td>\n",
              "      <td>0.08902</td>\n",
              "      <td>1</td>\n",
              "    </tr>\n",
              "    <tr>\n",
              "      <th>2</th>\n",
              "      <td>84300903</td>\n",
              "      <td>1</td>\n",
              "      <td>19.69</td>\n",
              "      <td>21.25</td>\n",
              "      <td>130.00</td>\n",
              "      <td>1203.0</td>\n",
              "      <td>0.10960</td>\n",
              "      <td>0.15990</td>\n",
              "      <td>0.1974</td>\n",
              "      <td>0.12790</td>\n",
              "      <td>0.2069</td>\n",
              "      <td>0.05999</td>\n",
              "      <td>0.7456</td>\n",
              "      <td>0.7869</td>\n",
              "      <td>4.585</td>\n",
              "      <td>94.03</td>\n",
              "      <td>0.006150</td>\n",
              "      <td>0.04006</td>\n",
              "      <td>0.03832</td>\n",
              "      <td>0.02058</td>\n",
              "      <td>0.02250</td>\n",
              "      <td>0.004571</td>\n",
              "      <td>23.57</td>\n",
              "      <td>25.53</td>\n",
              "      <td>152.50</td>\n",
              "      <td>1709.0</td>\n",
              "      <td>0.1444</td>\n",
              "      <td>0.4245</td>\n",
              "      <td>0.4504</td>\n",
              "      <td>0.2430</td>\n",
              "      <td>0.3613</td>\n",
              "      <td>0.08758</td>\n",
              "      <td>1</td>\n",
              "    </tr>\n",
              "    <tr>\n",
              "      <th>3</th>\n",
              "      <td>84348301</td>\n",
              "      <td>1</td>\n",
              "      <td>11.42</td>\n",
              "      <td>20.38</td>\n",
              "      <td>77.58</td>\n",
              "      <td>386.1</td>\n",
              "      <td>0.14250</td>\n",
              "      <td>0.28390</td>\n",
              "      <td>0.2414</td>\n",
              "      <td>0.10520</td>\n",
              "      <td>0.2597</td>\n",
              "      <td>0.09744</td>\n",
              "      <td>0.4956</td>\n",
              "      <td>1.1560</td>\n",
              "      <td>3.445</td>\n",
              "      <td>27.23</td>\n",
              "      <td>0.009110</td>\n",
              "      <td>0.07458</td>\n",
              "      <td>0.05661</td>\n",
              "      <td>0.01867</td>\n",
              "      <td>0.05963</td>\n",
              "      <td>0.009208</td>\n",
              "      <td>14.91</td>\n",
              "      <td>26.50</td>\n",
              "      <td>98.87</td>\n",
              "      <td>567.7</td>\n",
              "      <td>0.2098</td>\n",
              "      <td>0.8663</td>\n",
              "      <td>0.6869</td>\n",
              "      <td>0.2575</td>\n",
              "      <td>0.6638</td>\n",
              "      <td>0.17300</td>\n",
              "      <td>1</td>\n",
              "    </tr>\n",
              "    <tr>\n",
              "      <th>4</th>\n",
              "      <td>84358402</td>\n",
              "      <td>1</td>\n",
              "      <td>20.29</td>\n",
              "      <td>14.34</td>\n",
              "      <td>135.10</td>\n",
              "      <td>1297.0</td>\n",
              "      <td>0.10030</td>\n",
              "      <td>0.13280</td>\n",
              "      <td>0.1980</td>\n",
              "      <td>0.10430</td>\n",
              "      <td>0.1809</td>\n",
              "      <td>0.05883</td>\n",
              "      <td>0.7572</td>\n",
              "      <td>0.7813</td>\n",
              "      <td>5.438</td>\n",
              "      <td>94.44</td>\n",
              "      <td>0.011490</td>\n",
              "      <td>0.02461</td>\n",
              "      <td>0.05688</td>\n",
              "      <td>0.01885</td>\n",
              "      <td>0.01756</td>\n",
              "      <td>0.005115</td>\n",
              "      <td>22.54</td>\n",
              "      <td>16.67</td>\n",
              "      <td>152.20</td>\n",
              "      <td>1575.0</td>\n",
              "      <td>0.1374</td>\n",
              "      <td>0.2050</td>\n",
              "      <td>0.4000</td>\n",
              "      <td>0.1625</td>\n",
              "      <td>0.2364</td>\n",
              "      <td>0.07678</td>\n",
              "      <td>1</td>\n",
              "    </tr>\n",
              "  </tbody>\n",
              "</table>\n",
              "</div>"
            ],
            "text/plain": [
              "         id  diagnosis  radius_mean  ...  symmetry_extreme  fractal_extreme  label\n",
              "0    842302          1        17.99  ...            0.4601          0.11890      1\n",
              "1    842517          1        20.57  ...            0.2750          0.08902      1\n",
              "2  84300903          1        19.69  ...            0.3613          0.08758      1\n",
              "3  84348301          1        11.42  ...            0.6638          0.17300      1\n",
              "4  84358402          1        20.29  ...            0.2364          0.07678      1\n",
              "\n",
              "[5 rows x 33 columns]"
            ]
          },
          "metadata": {},
          "execution_count": 9
        }
      ]
    },
    {
      "cell_type": "code",
      "metadata": {
        "colab": {
          "base_uri": "https://localhost:8080/",
          "height": 0
        },
        "id": "WzIRaHqujmHj",
        "outputId": "ed53d3d6-ae3b-4cd3-e2b6-a6cb6522b226"
      },
      "source": [
        "dt_model = tree.DecisionTreeClassifier(\n",
        "    criterion=\"gini\",\n",
        "    max_depth=3,\n",
        ")\n",
        "\n",
        "features=[\"texture_mean\"]\n",
        "label = \"label\"\n",
        "dt_model.fit(X=cancer[features], y=cancer[label])"
      ],
      "execution_count": 10,
      "outputs": [
        {
          "output_type": "execute_result",
          "data": {
            "text/plain": [
              "DecisionTreeClassifier(max_depth=3)"
            ]
          },
          "metadata": {},
          "execution_count": 10
        }
      ]
    },
    {
      "cell_type": "code",
      "metadata": {
        "id": "2rbPzTyMj052"
      },
      "source": [
        "def gini_index(p: float):\n",
        "    \"\"\"Gini index for a given binary class ratio.\"\"\"\n",
        "    return 2 * p * (1 - p)"
      ],
      "execution_count": 11,
      "outputs": []
    },
    {
      "cell_type": "markdown",
      "metadata": {
        "id": "rCHO4VJDkcW-"
      },
      "source": [
        "***PROBLEM 1.1***"
      ]
    },
    {
      "cell_type": "code",
      "metadata": {
        "colab": {
          "base_uri": "https://localhost:8080/",
          "height": 0
        },
        "id": "JF12NvJVkAou",
        "outputId": "fba7d495-0cf0-4768-d77a-64694592c78f"
      },
      "source": [
        "print(\"The Gini Index for the dataset is : {}\".format(gini_index(len(cancer[cancer.diagnosis == 0])/len(cancer)))) #arg for gini function is class_ratio"
      ],
      "execution_count": 12,
      "outputs": [
        {
          "output_type": "stream",
          "name": "stdout",
          "text": [
            "The Gini Index for the dataset is : 0.4675300607546925\n"
          ]
        }
      ]
    },
    {
      "cell_type": "markdown",
      "metadata": {
        "id": "aaCYJ7Z-kzhA"
      },
      "source": [
        "***PROBLEM 1.2***"
      ]
    },
    {
      "cell_type": "code",
      "metadata": {
        "colab": {
          "base_uri": "https://localhost:8080/",
          "height": 556
        },
        "id": "ShFchaUXjwjW",
        "outputId": "a6e6b76c-6d97-4ce4-b1b2-e9ced0a50854"
      },
      "source": [
        "dot_data = tree.export_graphviz(\n",
        "    decision_tree=dt_model, \n",
        "    out_file=None, \n",
        "    feature_names=features,  \n",
        "    class_names=[\"0\", \"1\"],  \n",
        "    filled=True, \n",
        "    rounded=True,  \n",
        "    special_characters=True,\n",
        "    max_depth=2,\n",
        ")  \n",
        "graph = graphviz.Source(dot_data)  \n",
        "graph.render(\"cancer_tree\")\n",
        "graph"
      ],
      "execution_count": 13,
      "outputs": [
        {
          "output_type": "execute_result",
          "data": {
            "text/plain": [
              "<graphviz.files.Source at 0x7fe8b5fe70d0>"
            ],
            "image/svg+xml": "<?xml version=\"1.0\" encoding=\"UTF-8\" standalone=\"no\"?>\n<!DOCTYPE svg PUBLIC \"-//W3C//DTD SVG 1.1//EN\"\n \"http://www.w3.org/Graphics/SVG/1.1/DTD/svg11.dtd\">\n<!-- Generated by graphviz version 2.40.1 (20161225.0304)\n -->\n<!-- Title: Tree Pages: 1 -->\n<svg width=\"702pt\" height=\"401pt\"\n viewBox=\"0.00 0.00 702.00 401.00\" xmlns=\"http://www.w3.org/2000/svg\" xmlns:xlink=\"http://www.w3.org/1999/xlink\">\n<g id=\"graph0\" class=\"graph\" transform=\"scale(1 1) rotate(0) translate(4 397)\">\n<title>Tree</title>\n<polygon fill=\"#ffffff\" stroke=\"transparent\" points=\"-4,4 -4,-397 698,-397 698,4 -4,4\"/>\n<!-- 0 -->\n<g id=\"node1\" class=\"node\">\n<title>0</title>\n<path fill=\"#f4ccaf\" stroke=\"#000000\" d=\"M412,-393C412,-393 278,-393 278,-393 272,-393 266,-387 266,-381 266,-381 266,-322 266,-322 266,-316 272,-310 278,-310 278,-310 412,-310 412,-310 418,-310 424,-316 424,-322 424,-322 424,-381 424,-381 424,-387 418,-393 412,-393\"/>\n<text text-anchor=\"start\" x=\"274\" y=\"-377.8\" font-family=\"Helvetica,sans-Serif\" font-size=\"14.00\" fill=\"#000000\">texture_mean ≤ 19.47</text>\n<text text-anchor=\"start\" x=\"307\" y=\"-362.8\" font-family=\"Helvetica,sans-Serif\" font-size=\"14.00\" fill=\"#000000\">gini = 0.468</text>\n<text text-anchor=\"start\" x=\"297\" y=\"-347.8\" font-family=\"Helvetica,sans-Serif\" font-size=\"14.00\" fill=\"#000000\">samples = 569</text>\n<text text-anchor=\"start\" x=\"287\" y=\"-332.8\" font-family=\"Helvetica,sans-Serif\" font-size=\"14.00\" fill=\"#000000\">value = [357, 212]</text>\n<text text-anchor=\"start\" x=\"316\" y=\"-317.8\" font-family=\"Helvetica,sans-Serif\" font-size=\"14.00\" fill=\"#000000\">class = 0</text>\n</g>\n<!-- 1 -->\n<g id=\"node2\" class=\"node\">\n<title>1</title>\n<path fill=\"#ea9c63\" stroke=\"#000000\" d=\"M326,-274C326,-274 184,-274 184,-274 178,-274 172,-268 172,-262 172,-262 172,-203 172,-203 172,-197 178,-191 184,-191 184,-191 326,-191 326,-191 332,-191 338,-197 338,-203 338,-203 338,-262 338,-262 338,-268 332,-274 326,-274\"/>\n<text text-anchor=\"start\" x=\"180\" y=\"-258.8\" font-family=\"Helvetica,sans-Serif\" font-size=\"14.00\" fill=\"#000000\">texture_mean ≤ 16.395</text>\n<text text-anchor=\"start\" x=\"217\" y=\"-243.8\" font-family=\"Helvetica,sans-Serif\" font-size=\"14.00\" fill=\"#000000\">gini = 0.288</text>\n<text text-anchor=\"start\" x=\"207\" y=\"-228.8\" font-family=\"Helvetica,sans-Serif\" font-size=\"14.00\" fill=\"#000000\">samples = 316</text>\n<text text-anchor=\"start\" x=\"201\" y=\"-213.8\" font-family=\"Helvetica,sans-Serif\" font-size=\"14.00\" fill=\"#000000\">value = [261, 55]</text>\n<text text-anchor=\"start\" x=\"226\" y=\"-198.8\" font-family=\"Helvetica,sans-Serif\" font-size=\"14.00\" fill=\"#000000\">class = 0</text>\n</g>\n<!-- 0&#45;&gt;1 -->\n<g id=\"edge1\" class=\"edge\">\n<title>0&#45;&gt;1</title>\n<path fill=\"none\" stroke=\"#000000\" d=\"M313.5224,-309.8796C306.8471,-301.0534 299.7342,-291.6485 292.8504,-282.5466\"/>\n<polygon fill=\"#000000\" stroke=\"#000000\" points=\"295.4357,-280.1626 286.612,-274.2981 289.8526,-284.3852 295.4357,-280.1626\"/>\n<text text-anchor=\"middle\" x=\"283.176\" y=\"-295.3608\" font-family=\"Helvetica,sans-Serif\" font-size=\"14.00\" fill=\"#000000\">True</text>\n</g>\n<!-- 8 -->\n<g id=\"node9\" class=\"node\">\n<title>8</title>\n<path fill=\"#b2d9f5\" stroke=\"#000000\" d=\"M502,-274C502,-274 368,-274 368,-274 362,-274 356,-268 356,-262 356,-262 356,-203 356,-203 356,-197 362,-191 368,-191 368,-191 502,-191 502,-191 508,-191 514,-197 514,-203 514,-203 514,-262 514,-262 514,-268 508,-274 502,-274\"/>\n<text text-anchor=\"start\" x=\"364\" y=\"-258.8\" font-family=\"Helvetica,sans-Serif\" font-size=\"14.00\" fill=\"#000000\">texture_mean ≤ 26.98</text>\n<text text-anchor=\"start\" x=\"397\" y=\"-243.8\" font-family=\"Helvetica,sans-Serif\" font-size=\"14.00\" fill=\"#000000\">gini = 0.471</text>\n<text text-anchor=\"start\" x=\"387\" y=\"-228.8\" font-family=\"Helvetica,sans-Serif\" font-size=\"14.00\" fill=\"#000000\">samples = 253</text>\n<text text-anchor=\"start\" x=\"381\" y=\"-213.8\" font-family=\"Helvetica,sans-Serif\" font-size=\"14.00\" fill=\"#000000\">value = [96, 157]</text>\n<text text-anchor=\"start\" x=\"406\" y=\"-198.8\" font-family=\"Helvetica,sans-Serif\" font-size=\"14.00\" fill=\"#000000\">class = 1</text>\n</g>\n<!-- 0&#45;&gt;8 -->\n<g id=\"edge8\" class=\"edge\">\n<title>0&#45;&gt;8</title>\n<path fill=\"none\" stroke=\"#000000\" d=\"M376.4776,-309.8796C383.1529,-301.0534 390.2658,-291.6485 397.1496,-282.5466\"/>\n<polygon fill=\"#000000\" stroke=\"#000000\" points=\"400.1474,-284.3852 403.388,-274.2981 394.5643,-280.1626 400.1474,-284.3852\"/>\n<text text-anchor=\"middle\" x=\"406.824\" y=\"-295.3608\" font-family=\"Helvetica,sans-Serif\" font-size=\"14.00\" fill=\"#000000\">False</text>\n</g>\n<!-- 2 -->\n<g id=\"node3\" class=\"node\">\n<title>2</title>\n<path fill=\"#e78c4a\" stroke=\"#000000\" d=\"M146,-155C146,-155 12,-155 12,-155 6,-155 0,-149 0,-143 0,-143 0,-84 0,-84 0,-78 6,-72 12,-72 12,-72 146,-72 146,-72 152,-72 158,-78 158,-84 158,-84 158,-143 158,-143 158,-149 152,-155 146,-155\"/>\n<text text-anchor=\"start\" x=\"8\" y=\"-139.8\" font-family=\"Helvetica,sans-Serif\" font-size=\"14.00\" fill=\"#000000\">texture_mean ≤ 10.55</text>\n<text text-anchor=\"start\" x=\"41\" y=\"-124.8\" font-family=\"Helvetica,sans-Serif\" font-size=\"14.00\" fill=\"#000000\">gini = 0.145</text>\n<text text-anchor=\"start\" x=\"31\" y=\"-109.8\" font-family=\"Helvetica,sans-Serif\" font-size=\"14.00\" fill=\"#000000\">samples = 153</text>\n<text text-anchor=\"start\" x=\"25\" y=\"-94.8\" font-family=\"Helvetica,sans-Serif\" font-size=\"14.00\" fill=\"#000000\">value = [141, 12]</text>\n<text text-anchor=\"start\" x=\"50\" y=\"-79.8\" font-family=\"Helvetica,sans-Serif\" font-size=\"14.00\" fill=\"#000000\">class = 0</text>\n</g>\n<!-- 1&#45;&gt;2 -->\n<g id=\"edge2\" class=\"edge\">\n<title>1&#45;&gt;2</title>\n<path fill=\"none\" stroke=\"#000000\" d=\"M193.4437,-190.8796C179.1082,-181.1868 163.7405,-170.7961 149.0675,-160.8752\"/>\n<polygon fill=\"#000000\" stroke=\"#000000\" points=\"150.7661,-157.7987 140.5215,-155.0969 146.8452,-163.5976 150.7661,-157.7987\"/>\n</g>\n<!-- 5 -->\n<g id=\"node6\" class=\"node\">\n<title>5</title>\n<path fill=\"#eeae80\" stroke=\"#000000\" d=\"M322,-155C322,-155 188,-155 188,-155 182,-155 176,-149 176,-143 176,-143 176,-84 176,-84 176,-78 182,-72 188,-72 188,-72 322,-72 322,-72 328,-72 334,-78 334,-84 334,-84 334,-143 334,-143 334,-149 328,-155 322,-155\"/>\n<text text-anchor=\"start\" x=\"184\" y=\"-139.8\" font-family=\"Helvetica,sans-Serif\" font-size=\"14.00\" fill=\"#000000\">texture_mean ≤ 18.46</text>\n<text text-anchor=\"start\" x=\"217\" y=\"-124.8\" font-family=\"Helvetica,sans-Serif\" font-size=\"14.00\" fill=\"#000000\">gini = 0.388</text>\n<text text-anchor=\"start\" x=\"207\" y=\"-109.8\" font-family=\"Helvetica,sans-Serif\" font-size=\"14.00\" fill=\"#000000\">samples = 163</text>\n<text text-anchor=\"start\" x=\"201\" y=\"-94.8\" font-family=\"Helvetica,sans-Serif\" font-size=\"14.00\" fill=\"#000000\">value = [120, 43]</text>\n<text text-anchor=\"start\" x=\"226\" y=\"-79.8\" font-family=\"Helvetica,sans-Serif\" font-size=\"14.00\" fill=\"#000000\">class = 0</text>\n</g>\n<!-- 1&#45;&gt;5 -->\n<g id=\"edge5\" class=\"edge\">\n<title>1&#45;&gt;5</title>\n<path fill=\"none\" stroke=\"#000000\" d=\"M255,-190.8796C255,-182.6838 255,-173.9891 255,-165.5013\"/>\n<polygon fill=\"#000000\" stroke=\"#000000\" points=\"258.5001,-165.298 255,-155.2981 251.5001,-165.2981 258.5001,-165.298\"/>\n</g>\n<!-- 3 -->\n<g id=\"node4\" class=\"node\">\n<title>3</title>\n<path fill=\"#c0c0c0\" stroke=\"#000000\" d=\"M58,-36C58,-36 28,-36 28,-36 22,-36 16,-30 16,-24 16,-24 16,-12 16,-12 16,-6 22,0 28,0 28,0 58,0 58,0 64,0 70,-6 70,-12 70,-12 70,-24 70,-24 70,-30 64,-36 58,-36\"/>\n<text text-anchor=\"middle\" x=\"43\" y=\"-14.3\" font-family=\"Helvetica,sans-Serif\" font-size=\"14.00\" fill=\"#000000\">(...)</text>\n</g>\n<!-- 2&#45;&gt;3 -->\n<g id=\"edge3\" class=\"edge\">\n<title>2&#45;&gt;3</title>\n<path fill=\"none\" stroke=\"#000000\" d=\"M63.3146,-71.8901C59.9739,-63.0279 56.525,-53.8788 53.4386,-45.6913\"/>\n<polygon fill=\"#000000\" stroke=\"#000000\" points=\"56.6877,-44.3878 49.8853,-36.2651 50.1376,-46.8569 56.6877,-44.3878\"/>\n</g>\n<!-- 4 -->\n<g id=\"node5\" class=\"node\">\n<title>4</title>\n<path fill=\"#c0c0c0\" stroke=\"#000000\" d=\"M130,-36C130,-36 100,-36 100,-36 94,-36 88,-30 88,-24 88,-24 88,-12 88,-12 88,-6 94,0 100,0 100,0 130,0 130,0 136,0 142,-6 142,-12 142,-12 142,-24 142,-24 142,-30 136,-36 130,-36\"/>\n<text text-anchor=\"middle\" x=\"115\" y=\"-14.3\" font-family=\"Helvetica,sans-Serif\" font-size=\"14.00\" fill=\"#000000\">(...)</text>\n</g>\n<!-- 2&#45;&gt;4 -->\n<g id=\"edge4\" class=\"edge\">\n<title>2&#45;&gt;4</title>\n<path fill=\"none\" stroke=\"#000000\" d=\"M94.6854,-71.8901C98.0261,-63.0279 101.475,-53.8788 104.5614,-45.6913\"/>\n<polygon fill=\"#000000\" stroke=\"#000000\" points=\"107.8624,-46.8569 108.1147,-36.2651 101.3123,-44.3878 107.8624,-46.8569\"/>\n</g>\n<!-- 6 -->\n<g id=\"node7\" class=\"node\">\n<title>6</title>\n<path fill=\"#c0c0c0\" stroke=\"#000000\" d=\"M236,-36C236,-36 206,-36 206,-36 200,-36 194,-30 194,-24 194,-24 194,-12 194,-12 194,-6 200,0 206,0 206,0 236,0 236,0 242,0 248,-6 248,-12 248,-12 248,-24 248,-24 248,-30 242,-36 236,-36\"/>\n<text text-anchor=\"middle\" x=\"221\" y=\"-14.3\" font-family=\"Helvetica,sans-Serif\" font-size=\"14.00\" fill=\"#000000\">(...)</text>\n</g>\n<!-- 5&#45;&gt;6 -->\n<g id=\"edge6\" class=\"edge\">\n<title>5&#45;&gt;6</title>\n<path fill=\"none\" stroke=\"#000000\" d=\"M240.186,-71.8901C237.0309,-63.0279 233.7736,-53.8788 230.8587,-45.6913\"/>\n<polygon fill=\"#000000\" stroke=\"#000000\" points=\"234.1541,-44.512 227.5028,-36.2651 227.5595,-46.8598 234.1541,-44.512\"/>\n</g>\n<!-- 7 -->\n<g id=\"node8\" class=\"node\">\n<title>7</title>\n<path fill=\"#c0c0c0\" stroke=\"#000000\" d=\"M308,-36C308,-36 278,-36 278,-36 272,-36 266,-30 266,-24 266,-24 266,-12 266,-12 266,-6 272,0 278,0 278,0 308,0 308,0 314,0 320,-6 320,-12 320,-12 320,-24 320,-24 320,-30 314,-36 308,-36\"/>\n<text text-anchor=\"middle\" x=\"293\" y=\"-14.3\" font-family=\"Helvetica,sans-Serif\" font-size=\"14.00\" fill=\"#000000\">(...)</text>\n</g>\n<!-- 5&#45;&gt;7 -->\n<g id=\"edge7\" class=\"edge\">\n<title>5&#45;&gt;7</title>\n<path fill=\"none\" stroke=\"#000000\" d=\"M271.5568,-71.8901C275.0831,-63.0279 278.7236,-53.8788 281.9815,-45.6913\"/>\n<polygon fill=\"#000000\" stroke=\"#000000\" points=\"285.287,-46.8506 285.7322,-36.2651 278.783,-44.2626 285.287,-46.8506\"/>\n</g>\n<!-- 9 -->\n<g id=\"node10\" class=\"node\">\n<title>9</title>\n<path fill=\"#a6d3f3\" stroke=\"#000000\" d=\"M506,-155C506,-155 364,-155 364,-155 358,-155 352,-149 352,-143 352,-143 352,-84 352,-84 352,-78 358,-72 364,-72 364,-72 506,-72 506,-72 512,-72 518,-78 518,-84 518,-84 518,-143 518,-143 518,-149 512,-155 506,-155\"/>\n<text text-anchor=\"start\" x=\"360\" y=\"-139.8\" font-family=\"Helvetica,sans-Serif\" font-size=\"14.00\" fill=\"#000000\">texture_mean ≤ 25.525</text>\n<text text-anchor=\"start\" x=\"397\" y=\"-124.8\" font-family=\"Helvetica,sans-Serif\" font-size=\"14.00\" fill=\"#000000\">gini = 0.458</text>\n<text text-anchor=\"start\" x=\"387\" y=\"-109.8\" font-family=\"Helvetica,sans-Serif\" font-size=\"14.00\" fill=\"#000000\">samples = 220</text>\n<text text-anchor=\"start\" x=\"381\" y=\"-94.8\" font-family=\"Helvetica,sans-Serif\" font-size=\"14.00\" fill=\"#000000\">value = [78, 142]</text>\n<text text-anchor=\"start\" x=\"406\" y=\"-79.8\" font-family=\"Helvetica,sans-Serif\" font-size=\"14.00\" fill=\"#000000\">class = 1</text>\n</g>\n<!-- 8&#45;&gt;9 -->\n<g id=\"edge9\" class=\"edge\">\n<title>8&#45;&gt;9</title>\n<path fill=\"none\" stroke=\"#000000\" d=\"M435,-190.8796C435,-182.6838 435,-173.9891 435,-165.5013\"/>\n<polygon fill=\"#000000\" stroke=\"#000000\" points=\"438.5001,-165.298 435,-155.2981 431.5001,-165.2981 438.5001,-165.298\"/>\n</g>\n<!-- 12 -->\n<g id=\"node13\" class=\"node\">\n<title>12</title>\n<path fill=\"#fbeade\" stroke=\"#000000\" d=\"M682,-155C682,-155 548,-155 548,-155 542,-155 536,-149 536,-143 536,-143 536,-84 536,-84 536,-78 542,-72 548,-72 548,-72 682,-72 682,-72 688,-72 694,-78 694,-84 694,-84 694,-143 694,-143 694,-149 688,-155 682,-155\"/>\n<text text-anchor=\"start\" x=\"544\" y=\"-139.8\" font-family=\"Helvetica,sans-Serif\" font-size=\"14.00\" fill=\"#000000\">texture_mean ≤ 30.92</text>\n<text text-anchor=\"start\" x=\"577\" y=\"-124.8\" font-family=\"Helvetica,sans-Serif\" font-size=\"14.00\" fill=\"#000000\">gini = 0.496</text>\n<text text-anchor=\"start\" x=\"571\" y=\"-109.8\" font-family=\"Helvetica,sans-Serif\" font-size=\"14.00\" fill=\"#000000\">samples = 33</text>\n<text text-anchor=\"start\" x=\"565\" y=\"-94.8\" font-family=\"Helvetica,sans-Serif\" font-size=\"14.00\" fill=\"#000000\">value = [18, 15]</text>\n<text text-anchor=\"start\" x=\"586\" y=\"-79.8\" font-family=\"Helvetica,sans-Serif\" font-size=\"14.00\" fill=\"#000000\">class = 0</text>\n</g>\n<!-- 8&#45;&gt;12 -->\n<g id=\"edge12\" class=\"edge\">\n<title>8&#45;&gt;12</title>\n<path fill=\"none\" stroke=\"#000000\" d=\"M497.9553,-190.8796C512.6166,-181.1868 528.3336,-170.7961 543.3401,-160.8752\"/>\n<polygon fill=\"#000000\" stroke=\"#000000\" points=\"545.6687,-163.5315 552.0803,-155.0969 541.8082,-157.6922 545.6687,-163.5315\"/>\n</g>\n<!-- 10 -->\n<g id=\"node11\" class=\"node\">\n<title>10</title>\n<path fill=\"#c0c0c0\" stroke=\"#000000\" d=\"M423,-36C423,-36 393,-36 393,-36 387,-36 381,-30 381,-24 381,-24 381,-12 381,-12 381,-6 387,0 393,0 393,0 423,0 423,0 429,0 435,-6 435,-12 435,-12 435,-24 435,-24 435,-30 429,-36 423,-36\"/>\n<text text-anchor=\"middle\" x=\"408\" y=\"-14.3\" font-family=\"Helvetica,sans-Serif\" font-size=\"14.00\" fill=\"#000000\">(...)</text>\n</g>\n<!-- 9&#45;&gt;10 -->\n<g id=\"edge10\" class=\"edge\">\n<title>9&#45;&gt;10</title>\n<path fill=\"none\" stroke=\"#000000\" d=\"M423.236,-71.8901C420.7579,-63.1253 418.2006,-54.0798 415.9054,-45.9615\"/>\n<polygon fill=\"#000000\" stroke=\"#000000\" points=\"419.2526,-44.9357 413.164,-36.2651 412.5166,-46.8401 419.2526,-44.9357\"/>\n</g>\n<!-- 11 -->\n<g id=\"node12\" class=\"node\">\n<title>11</title>\n<path fill=\"#c0c0c0\" stroke=\"#000000\" d=\"M495,-36C495,-36 465,-36 465,-36 459,-36 453,-30 453,-24 453,-24 453,-12 453,-12 453,-6 459,0 465,0 465,0 495,0 495,0 501,0 507,-6 507,-12 507,-12 507,-24 507,-24 507,-30 501,-36 495,-36\"/>\n<text text-anchor=\"middle\" x=\"480\" y=\"-14.3\" font-family=\"Helvetica,sans-Serif\" font-size=\"14.00\" fill=\"#000000\">(...)</text>\n</g>\n<!-- 9&#45;&gt;11 -->\n<g id=\"edge11\" class=\"edge\">\n<title>9&#45;&gt;11</title>\n<path fill=\"none\" stroke=\"#000000\" d=\"M454.6067,-71.8901C458.8285,-62.9305 463.1885,-53.6777 467.0788,-45.4217\"/>\n<polygon fill=\"#000000\" stroke=\"#000000\" points=\"470.2969,-46.8031 471.3934,-36.2651 463.9647,-43.8192 470.2969,-46.8031\"/>\n</g>\n<!-- 13 -->\n<g id=\"node14\" class=\"node\">\n<title>13</title>\n<path fill=\"#c0c0c0\" stroke=\"#000000\" d=\"M584,-36C584,-36 554,-36 554,-36 548,-36 542,-30 542,-24 542,-24 542,-12 542,-12 542,-6 548,0 554,0 554,0 584,0 584,0 590,0 596,-6 596,-12 596,-12 596,-24 596,-24 596,-30 590,-36 584,-36\"/>\n<text text-anchor=\"middle\" x=\"569\" y=\"-14.3\" font-family=\"Helvetica,sans-Serif\" font-size=\"14.00\" fill=\"#000000\">(...)</text>\n</g>\n<!-- 12&#45;&gt;13 -->\n<g id=\"edge13\" class=\"edge\">\n<title>12&#45;&gt;13</title>\n<path fill=\"none\" stroke=\"#000000\" d=\"M594.9575,-71.8901C590.6419,-62.9305 586.1851,-53.6777 582.2083,-45.4217\"/>\n<polygon fill=\"#000000\" stroke=\"#000000\" points=\"585.2908,-43.7556 577.7979,-36.2651 578.9842,-46.7933 585.2908,-43.7556\"/>\n</g>\n<!-- 14 -->\n<g id=\"node15\" class=\"node\">\n<title>14</title>\n<path fill=\"#c0c0c0\" stroke=\"#000000\" d=\"M656,-36C656,-36 626,-36 626,-36 620,-36 614,-30 614,-24 614,-24 614,-12 614,-12 614,-6 620,0 626,0 626,0 656,0 656,0 662,0 668,-6 668,-12 668,-12 668,-24 668,-24 668,-30 662,-36 656,-36\"/>\n<text text-anchor=\"middle\" x=\"641\" y=\"-14.3\" font-family=\"Helvetica,sans-Serif\" font-size=\"14.00\" fill=\"#000000\">(...)</text>\n</g>\n<!-- 12&#45;&gt;14 -->\n<g id=\"edge14\" class=\"edge\">\n<title>12&#45;&gt;14</title>\n<path fill=\"none\" stroke=\"#000000\" d=\"M626.3283,-71.8901C628.7146,-63.1253 631.1772,-54.0798 633.3874,-45.9615\"/>\n<polygon fill=\"#000000\" stroke=\"#000000\" points=\"636.7774,-46.8333 636.0273,-36.2651 630.0232,-44.9945 636.7774,-46.8333\"/>\n</g>\n</g>\n</svg>\n"
          },
          "metadata": {},
          "execution_count": 13
        }
      ]
    },
    {
      "cell_type": "code",
      "metadata": {
        "colab": {
          "base_uri": "https://localhost:8080/",
          "height": 0
        },
        "id": "Y4Us6yPBk5_a",
        "outputId": "04c2ca03-7dfd-4c67-e9dc-678bd74becaf"
      },
      "source": [
        "dt_model = tree.DecisionTreeClassifier(\n",
        "    criterion=\"entropy\",\n",
        "    max_depth=3,\n",
        ")\n",
        "\n",
        "features=[\"texture_mean\"]\n",
        "label = \"label\"\n",
        "dt_model.fit(X=cancer[features], y=cancer[label])"
      ],
      "execution_count": 14,
      "outputs": [
        {
          "output_type": "execute_result",
          "data": {
            "text/plain": [
              "DecisionTreeClassifier(criterion='entropy', max_depth=3)"
            ]
          },
          "metadata": {},
          "execution_count": 14
        }
      ]
    },
    {
      "cell_type": "markdown",
      "metadata": {
        "id": "_OQQK-zJlUei"
      },
      "source": [
        "***PROBLEM 1.3*** "
      ]
    },
    {
      "cell_type": "code",
      "metadata": {
        "colab": {
          "base_uri": "https://localhost:8080/",
          "height": 556
        },
        "id": "J-gnAo4KlMR6",
        "outputId": "ad90cffd-2ab0-4ab1-d4f1-24ad9ef92793"
      },
      "source": [
        "dot_data = tree.export_graphviz(\n",
        "    decision_tree=dt_model, \n",
        "    out_file=None, \n",
        "    feature_names=features,  \n",
        "    class_names=[\"0\", \"1\"],  \n",
        "    filled=True, \n",
        "    rounded=True,  \n",
        "    special_characters=True,\n",
        "    max_depth=2,\n",
        ")  \n",
        "graph = graphviz.Source(dot_data)  \n",
        "graph.render(\"cancer_tree\")\n",
        "graph"
      ],
      "execution_count": 15,
      "outputs": [
        {
          "output_type": "execute_result",
          "data": {
            "text/plain": [
              "<graphviz.files.Source at 0x7fe8b5fe7810>"
            ],
            "image/svg+xml": "<?xml version=\"1.0\" encoding=\"UTF-8\" standalone=\"no\"?>\n<!DOCTYPE svg PUBLIC \"-//W3C//DTD SVG 1.1//EN\"\n \"http://www.w3.org/Graphics/SVG/1.1/DTD/svg11.dtd\">\n<!-- Generated by graphviz version 2.40.1 (20161225.0304)\n -->\n<!-- Title: Tree Pages: 1 -->\n<svg width=\"710pt\" height=\"401pt\"\n viewBox=\"0.00 0.00 710.00 401.00\" xmlns=\"http://www.w3.org/2000/svg\" xmlns:xlink=\"http://www.w3.org/1999/xlink\">\n<g id=\"graph0\" class=\"graph\" transform=\"scale(1 1) rotate(0) translate(4 397)\">\n<title>Tree</title>\n<polygon fill=\"#ffffff\" stroke=\"transparent\" points=\"-4,4 -4,-397 706,-397 706,4 -4,4\"/>\n<!-- 0 -->\n<g id=\"node1\" class=\"node\">\n<title>0</title>\n<path fill=\"#f4ccaf\" stroke=\"#000000\" d=\"M422,-393C422,-393 280,-393 280,-393 274,-393 268,-387 268,-381 268,-381 268,-322 268,-322 268,-316 274,-310 280,-310 280,-310 422,-310 422,-310 428,-310 434,-316 434,-322 434,-322 434,-381 434,-381 434,-387 428,-393 422,-393\"/>\n<text text-anchor=\"start\" x=\"276\" y=\"-377.8\" font-family=\"Helvetica,sans-Serif\" font-size=\"14.00\" fill=\"#000000\">texture_mean ≤ 18.635</text>\n<text text-anchor=\"start\" x=\"300\" y=\"-362.8\" font-family=\"Helvetica,sans-Serif\" font-size=\"14.00\" fill=\"#000000\">entropy = 0.953</text>\n<text text-anchor=\"start\" x=\"303\" y=\"-347.8\" font-family=\"Helvetica,sans-Serif\" font-size=\"14.00\" fill=\"#000000\">samples = 569</text>\n<text text-anchor=\"start\" x=\"293\" y=\"-332.8\" font-family=\"Helvetica,sans-Serif\" font-size=\"14.00\" fill=\"#000000\">value = [357, 212]</text>\n<text text-anchor=\"start\" x=\"322\" y=\"-317.8\" font-family=\"Helvetica,sans-Serif\" font-size=\"14.00\" fill=\"#000000\">class = 0</text>\n</g>\n<!-- 1 -->\n<g id=\"node2\" class=\"node\">\n<title>1</title>\n<path fill=\"#e9965a\" stroke=\"#000000\" d=\"M330,-274C330,-274 188,-274 188,-274 182,-274 176,-268 176,-262 176,-262 176,-203 176,-203 176,-197 182,-191 188,-191 188,-191 330,-191 330,-191 336,-191 342,-197 342,-203 342,-203 342,-262 342,-262 342,-268 336,-274 330,-274\"/>\n<text text-anchor=\"start\" x=\"184\" y=\"-258.8\" font-family=\"Helvetica,sans-Serif\" font-size=\"14.00\" fill=\"#000000\">texture_mean ≤ 15.045</text>\n<text text-anchor=\"start\" x=\"208\" y=\"-243.8\" font-family=\"Helvetica,sans-Serif\" font-size=\"14.00\" fill=\"#000000\">entropy = 0.592</text>\n<text text-anchor=\"start\" x=\"211\" y=\"-228.8\" font-family=\"Helvetica,sans-Serif\" font-size=\"14.00\" fill=\"#000000\">samples = 273</text>\n<text text-anchor=\"start\" x=\"205\" y=\"-213.8\" font-family=\"Helvetica,sans-Serif\" font-size=\"14.00\" fill=\"#000000\">value = [234, 39]</text>\n<text text-anchor=\"start\" x=\"230\" y=\"-198.8\" font-family=\"Helvetica,sans-Serif\" font-size=\"14.00\" fill=\"#000000\">class = 0</text>\n</g>\n<!-- 0&#45;&gt;1 -->\n<g id=\"edge1\" class=\"edge\">\n<title>0&#45;&gt;1</title>\n<path fill=\"none\" stroke=\"#000000\" d=\"M318.8229,-309.8796C311.9296,-300.9633 304.5798,-291.4565 297.4761,-282.268\"/>\n<polygon fill=\"#000000\" stroke=\"#000000\" points=\"300.1999,-280.0687 291.3145,-274.2981 294.6619,-284.3502 300.1999,-280.0687\"/>\n<text text-anchor=\"middle\" x=\"288.1413\" y=\"-295.3959\" font-family=\"Helvetica,sans-Serif\" font-size=\"14.00\" fill=\"#000000\">True</text>\n</g>\n<!-- 8 -->\n<g id=\"node9\" class=\"node\">\n<title>8</title>\n<path fill=\"#c6e3f7\" stroke=\"#000000\" d=\"M514,-274C514,-274 372,-274 372,-274 366,-274 360,-268 360,-262 360,-262 360,-203 360,-203 360,-197 366,-191 372,-191 372,-191 514,-191 514,-191 520,-191 526,-197 526,-203 526,-203 526,-262 526,-262 526,-268 520,-274 514,-274\"/>\n<text text-anchor=\"start\" x=\"368\" y=\"-258.8\" font-family=\"Helvetica,sans-Serif\" font-size=\"14.00\" fill=\"#000000\">texture_mean ≤ 19.965</text>\n<text text-anchor=\"start\" x=\"392\" y=\"-243.8\" font-family=\"Helvetica,sans-Serif\" font-size=\"14.00\" fill=\"#000000\">entropy = 0.979</text>\n<text text-anchor=\"start\" x=\"395\" y=\"-228.8\" font-family=\"Helvetica,sans-Serif\" font-size=\"14.00\" fill=\"#000000\">samples = 296</text>\n<text text-anchor=\"start\" x=\"385\" y=\"-213.8\" font-family=\"Helvetica,sans-Serif\" font-size=\"14.00\" fill=\"#000000\">value = [123, 173]</text>\n<text text-anchor=\"start\" x=\"414\" y=\"-198.8\" font-family=\"Helvetica,sans-Serif\" font-size=\"14.00\" fill=\"#000000\">class = 1</text>\n</g>\n<!-- 0&#45;&gt;8 -->\n<g id=\"edge8\" class=\"edge\">\n<title>0&#45;&gt;8</title>\n<path fill=\"none\" stroke=\"#000000\" d=\"M383.1771,-309.8796C390.0704,-300.9633 397.4202,-291.4565 404.5239,-282.268\"/>\n<polygon fill=\"#000000\" stroke=\"#000000\" points=\"407.3381,-284.3502 410.6855,-274.2981 401.8001,-280.0687 407.3381,-284.3502\"/>\n<text text-anchor=\"middle\" x=\"413.8587\" y=\"-295.3959\" font-family=\"Helvetica,sans-Serif\" font-size=\"14.00\" fill=\"#000000\">False</text>\n</g>\n<!-- 2 -->\n<g id=\"node3\" class=\"node\">\n<title>2</title>\n<path fill=\"#e68742\" stroke=\"#000000\" d=\"M146,-155C146,-155 12,-155 12,-155 6,-155 0,-149 0,-143 0,-143 0,-84 0,-84 0,-78 6,-72 12,-72 12,-72 146,-72 146,-72 152,-72 158,-78 158,-84 158,-84 158,-143 158,-143 158,-149 152,-155 146,-155\"/>\n<text text-anchor=\"start\" x=\"8\" y=\"-139.8\" font-family=\"Helvetica,sans-Serif\" font-size=\"14.00\" fill=\"#000000\">texture_mean ≤ 11.93</text>\n<text text-anchor=\"start\" x=\"28\" y=\"-124.8\" font-family=\"Helvetica,sans-Serif\" font-size=\"14.00\" fill=\"#000000\">entropy = 0.258</text>\n<text text-anchor=\"start\" x=\"35\" y=\"-109.8\" font-family=\"Helvetica,sans-Serif\" font-size=\"14.00\" fill=\"#000000\">samples = 92</text>\n<text text-anchor=\"start\" x=\"33.5\" y=\"-94.8\" font-family=\"Helvetica,sans-Serif\" font-size=\"14.00\" fill=\"#000000\">value = [88, 4]</text>\n<text text-anchor=\"start\" x=\"50\" y=\"-79.8\" font-family=\"Helvetica,sans-Serif\" font-size=\"14.00\" fill=\"#000000\">class = 0</text>\n</g>\n<!-- 1&#45;&gt;2 -->\n<g id=\"edge2\" class=\"edge\">\n<title>1&#45;&gt;2</title>\n<path fill=\"none\" stroke=\"#000000\" d=\"M196.0447,-190.8796C181.3834,-181.1868 165.6664,-170.7961 150.6599,-160.8752\"/>\n<polygon fill=\"#000000\" stroke=\"#000000\" points=\"152.1918,-157.6922 141.9197,-155.0969 148.3313,-163.5315 152.1918,-157.6922\"/>\n</g>\n<!-- 5 -->\n<g id=\"node6\" class=\"node\">\n<title>5</title>\n<path fill=\"#eb9f68\" stroke=\"#000000\" d=\"M330,-155C330,-155 188,-155 188,-155 182,-155 176,-149 176,-143 176,-143 176,-84 176,-84 176,-78 182,-72 188,-72 188,-72 330,-72 330,-72 336,-72 342,-78 342,-84 342,-84 342,-143 342,-143 342,-149 336,-155 330,-155\"/>\n<text text-anchor=\"start\" x=\"184\" y=\"-139.8\" font-family=\"Helvetica,sans-Serif\" font-size=\"14.00\" fill=\"#000000\">texture_mean ≤ 15.105</text>\n<text text-anchor=\"start\" x=\"208\" y=\"-124.8\" font-family=\"Helvetica,sans-Serif\" font-size=\"14.00\" fill=\"#000000\">entropy = 0.708</text>\n<text text-anchor=\"start\" x=\"211\" y=\"-109.8\" font-family=\"Helvetica,sans-Serif\" font-size=\"14.00\" fill=\"#000000\">samples = 181</text>\n<text text-anchor=\"start\" x=\"205\" y=\"-94.8\" font-family=\"Helvetica,sans-Serif\" font-size=\"14.00\" fill=\"#000000\">value = [146, 35]</text>\n<text text-anchor=\"start\" x=\"230\" y=\"-79.8\" font-family=\"Helvetica,sans-Serif\" font-size=\"14.00\" fill=\"#000000\">class = 0</text>\n</g>\n<!-- 1&#45;&gt;5 -->\n<g id=\"edge5\" class=\"edge\">\n<title>1&#45;&gt;5</title>\n<path fill=\"none\" stroke=\"#000000\" d=\"M259,-190.8796C259,-182.6838 259,-173.9891 259,-165.5013\"/>\n<polygon fill=\"#000000\" stroke=\"#000000\" points=\"262.5001,-165.298 259,-155.2981 255.5001,-165.2981 262.5001,-165.298\"/>\n</g>\n<!-- 3 -->\n<g id=\"node4\" class=\"node\">\n<title>3</title>\n<path fill=\"#c0c0c0\" stroke=\"#000000\" d=\"M75,-36C75,-36 45,-36 45,-36 39,-36 33,-30 33,-24 33,-24 33,-12 33,-12 33,-6 39,0 45,0 45,0 75,0 75,0 81,0 87,-6 87,-12 87,-12 87,-24 87,-24 87,-30 81,-36 75,-36\"/>\n<text text-anchor=\"middle\" x=\"60\" y=\"-14.3\" font-family=\"Helvetica,sans-Serif\" font-size=\"14.00\" fill=\"#000000\">(...)</text>\n</g>\n<!-- 2&#45;&gt;3 -->\n<g id=\"edge3\" class=\"edge\">\n<title>2&#45;&gt;3</title>\n<path fill=\"none\" stroke=\"#000000\" d=\"M70.7216,-71.8901C68.9972,-63.2227 67.2182,-54.2808 65.6169,-46.2325\"/>\n<polygon fill=\"#000000\" stroke=\"#000000\" points=\"69.018,-45.3899 63.6339,-36.2651 62.1525,-46.7559 69.018,-45.3899\"/>\n</g>\n<!-- 4 -->\n<g id=\"node5\" class=\"node\">\n<title>4</title>\n<path fill=\"#c0c0c0\" stroke=\"#000000\" d=\"M147,-36C147,-36 117,-36 117,-36 111,-36 105,-30 105,-24 105,-24 105,-12 105,-12 105,-6 111,0 117,0 117,0 147,0 147,0 153,0 159,-6 159,-12 159,-12 159,-24 159,-24 159,-30 153,-36 147,-36\"/>\n<text text-anchor=\"middle\" x=\"132\" y=\"-14.3\" font-family=\"Helvetica,sans-Serif\" font-size=\"14.00\" fill=\"#000000\">(...)</text>\n</g>\n<!-- 2&#45;&gt;4 -->\n<g id=\"edge4\" class=\"edge\">\n<title>2&#45;&gt;4</title>\n<path fill=\"none\" stroke=\"#000000\" d=\"M102.0924,-71.8901C107.1188,-62.8331 112.3115,-53.4765 116.9309,-45.1528\"/>\n<polygon fill=\"#000000\" stroke=\"#000000\" points=\"120.0711,-46.7073 121.8633,-36.2651 113.9504,-43.3104 120.0711,-46.7073\"/>\n</g>\n<!-- 6 -->\n<g id=\"node7\" class=\"node\">\n<title>6</title>\n<path fill=\"#c0c0c0\" stroke=\"#000000\" d=\"M221,-36C221,-36 191,-36 191,-36 185,-36 179,-30 179,-24 179,-24 179,-12 179,-12 179,-6 185,0 191,0 191,0 221,0 221,0 227,0 233,-6 233,-12 233,-12 233,-24 233,-24 233,-30 227,-36 221,-36\"/>\n<text text-anchor=\"middle\" x=\"206\" y=\"-14.3\" font-family=\"Helvetica,sans-Serif\" font-size=\"14.00\" fill=\"#000000\">(...)</text>\n</g>\n<!-- 5&#45;&gt;6 -->\n<g id=\"edge6\" class=\"edge\">\n<title>5&#45;&gt;6</title>\n<path fill=\"none\" stroke=\"#000000\" d=\"M235.9076,-71.8901C230.8812,-62.8331 225.6885,-53.4765 221.0691,-45.1528\"/>\n<polygon fill=\"#000000\" stroke=\"#000000\" points=\"224.0496,-43.3104 216.1367,-36.2651 217.9289,-46.7073 224.0496,-43.3104\"/>\n</g>\n<!-- 7 -->\n<g id=\"node8\" class=\"node\">\n<title>7</title>\n<path fill=\"#c0c0c0\" stroke=\"#000000\" d=\"M293,-36C293,-36 263,-36 263,-36 257,-36 251,-30 251,-24 251,-24 251,-12 251,-12 251,-6 257,0 263,0 263,0 293,0 293,0 299,0 305,-6 305,-12 305,-12 305,-24 305,-24 305,-30 299,-36 293,-36\"/>\n<text text-anchor=\"middle\" x=\"278\" y=\"-14.3\" font-family=\"Helvetica,sans-Serif\" font-size=\"14.00\" fill=\"#000000\">(...)</text>\n</g>\n<!-- 5&#45;&gt;7 -->\n<g id=\"edge7\" class=\"edge\">\n<title>5&#45;&gt;7</title>\n<path fill=\"none\" stroke=\"#000000\" d=\"M267.2784,-71.8901C269.0028,-63.2227 270.7818,-54.2808 272.3831,-46.2325\"/>\n<polygon fill=\"#000000\" stroke=\"#000000\" points=\"275.8475,-46.7559 274.3661,-36.2651 268.982,-45.3899 275.8475,-46.7559\"/>\n</g>\n<!-- 9 -->\n<g id=\"node10\" class=\"node\">\n<title>9</title>\n<path fill=\"#f7d9c4\" stroke=\"#000000\" d=\"M514,-155C514,-155 372,-155 372,-155 366,-155 360,-149 360,-143 360,-143 360,-84 360,-84 360,-78 366,-72 372,-72 372,-72 514,-72 514,-72 520,-72 526,-78 526,-84 526,-84 526,-143 526,-143 526,-149 520,-155 514,-155\"/>\n<text text-anchor=\"start\" x=\"368\" y=\"-139.8\" font-family=\"Helvetica,sans-Serif\" font-size=\"14.00\" fill=\"#000000\">texture_mean ≤ 19.845</text>\n<text text-anchor=\"start\" x=\"392\" y=\"-124.8\" font-family=\"Helvetica,sans-Serif\" font-size=\"14.00\" fill=\"#000000\">entropy = 0.977</text>\n<text text-anchor=\"start\" x=\"399\" y=\"-109.8\" font-family=\"Helvetica,sans-Serif\" font-size=\"14.00\" fill=\"#000000\">samples = 68</text>\n<text text-anchor=\"start\" x=\"393\" y=\"-94.8\" font-family=\"Helvetica,sans-Serif\" font-size=\"14.00\" fill=\"#000000\">value = [40, 28]</text>\n<text text-anchor=\"start\" x=\"414\" y=\"-79.8\" font-family=\"Helvetica,sans-Serif\" font-size=\"14.00\" fill=\"#000000\">class = 0</text>\n</g>\n<!-- 8&#45;&gt;9 -->\n<g id=\"edge9\" class=\"edge\">\n<title>8&#45;&gt;9</title>\n<path fill=\"none\" stroke=\"#000000\" d=\"M443,-190.8796C443,-182.6838 443,-173.9891 443,-165.5013\"/>\n<polygon fill=\"#000000\" stroke=\"#000000\" points=\"446.5001,-165.298 443,-155.2981 439.5001,-165.2981 446.5001,-165.298\"/>\n</g>\n<!-- 12 -->\n<g id=\"node13\" class=\"node\">\n<title>12</title>\n<path fill=\"#aad5f4\" stroke=\"#000000\" d=\"M690,-155C690,-155 556,-155 556,-155 550,-155 544,-149 544,-143 544,-143 544,-84 544,-84 544,-78 550,-72 556,-72 556,-72 690,-72 690,-72 696,-72 702,-78 702,-84 702,-84 702,-143 702,-143 702,-149 696,-155 690,-155\"/>\n<text text-anchor=\"start\" x=\"552\" y=\"-139.8\" font-family=\"Helvetica,sans-Serif\" font-size=\"14.00\" fill=\"#000000\">texture_mean ≤ 26.98</text>\n<text text-anchor=\"start\" x=\"572\" y=\"-124.8\" font-family=\"Helvetica,sans-Serif\" font-size=\"14.00\" fill=\"#000000\">entropy = 0.946</text>\n<text text-anchor=\"start\" x=\"575\" y=\"-109.8\" font-family=\"Helvetica,sans-Serif\" font-size=\"14.00\" fill=\"#000000\">samples = 228</text>\n<text text-anchor=\"start\" x=\"569\" y=\"-94.8\" font-family=\"Helvetica,sans-Serif\" font-size=\"14.00\" fill=\"#000000\">value = [83, 145]</text>\n<text text-anchor=\"start\" x=\"594\" y=\"-79.8\" font-family=\"Helvetica,sans-Serif\" font-size=\"14.00\" fill=\"#000000\">class = 1</text>\n</g>\n<!-- 8&#45;&gt;12 -->\n<g id=\"edge12\" class=\"edge\">\n<title>8&#45;&gt;12</title>\n<path fill=\"none\" stroke=\"#000000\" d=\"M505.9553,-190.8796C520.6166,-181.1868 536.3336,-170.7961 551.3401,-160.8752\"/>\n<polygon fill=\"#000000\" stroke=\"#000000\" points=\"553.6687,-163.5315 560.0803,-155.0969 549.8082,-157.6922 553.6687,-163.5315\"/>\n</g>\n<!-- 10 -->\n<g id=\"node11\" class=\"node\">\n<title>10</title>\n<path fill=\"#c0c0c0\" stroke=\"#000000\" d=\"M422,-36C422,-36 392,-36 392,-36 386,-36 380,-30 380,-24 380,-24 380,-12 380,-12 380,-6 386,0 392,0 392,0 422,0 422,0 428,0 434,-6 434,-12 434,-12 434,-24 434,-24 434,-30 428,-36 422,-36\"/>\n<text text-anchor=\"middle\" x=\"407\" y=\"-14.3\" font-family=\"Helvetica,sans-Serif\" font-size=\"14.00\" fill=\"#000000\">(...)</text>\n</g>\n<!-- 9&#45;&gt;10 -->\n<g id=\"edge10\" class=\"edge\">\n<title>9&#45;&gt;10</title>\n<path fill=\"none\" stroke=\"#000000\" d=\"M427.3146,-71.8901C423.9739,-63.0279 420.525,-53.8788 417.4386,-45.6913\"/>\n<polygon fill=\"#000000\" stroke=\"#000000\" points=\"420.6877,-44.3878 413.8853,-36.2651 414.1376,-46.8569 420.6877,-44.3878\"/>\n</g>\n<!-- 11 -->\n<g id=\"node12\" class=\"node\">\n<title>11</title>\n<path fill=\"#c0c0c0\" stroke=\"#000000\" d=\"M494,-36C494,-36 464,-36 464,-36 458,-36 452,-30 452,-24 452,-24 452,-12 452,-12 452,-6 458,0 464,0 464,0 494,0 494,0 500,0 506,-6 506,-12 506,-12 506,-24 506,-24 506,-30 500,-36 494,-36\"/>\n<text text-anchor=\"middle\" x=\"479\" y=\"-14.3\" font-family=\"Helvetica,sans-Serif\" font-size=\"14.00\" fill=\"#000000\">(...)</text>\n</g>\n<!-- 9&#45;&gt;11 -->\n<g id=\"edge11\" class=\"edge\">\n<title>9&#45;&gt;11</title>\n<path fill=\"none\" stroke=\"#000000\" d=\"M458.6854,-71.8901C462.0261,-63.0279 465.475,-53.8788 468.5614,-45.6913\"/>\n<polygon fill=\"#000000\" stroke=\"#000000\" points=\"471.8624,-46.8569 472.1147,-36.2651 465.3123,-44.3878 471.8624,-46.8569\"/>\n</g>\n<!-- 13 -->\n<g id=\"node14\" class=\"node\">\n<title>13</title>\n<path fill=\"#c0c0c0\" stroke=\"#000000\" d=\"M602,-36C602,-36 572,-36 572,-36 566,-36 560,-30 560,-24 560,-24 560,-12 560,-12 560,-6 566,0 572,0 572,0 602,0 602,0 608,0 614,-6 614,-12 614,-12 614,-24 614,-24 614,-30 608,-36 602,-36\"/>\n<text text-anchor=\"middle\" x=\"587\" y=\"-14.3\" font-family=\"Helvetica,sans-Serif\" font-size=\"14.00\" fill=\"#000000\">(...)</text>\n</g>\n<!-- 12&#45;&gt;13 -->\n<g id=\"edge13\" class=\"edge\">\n<title>12&#45;&gt;13</title>\n<path fill=\"none\" stroke=\"#000000\" d=\"M607.3146,-71.8901C603.9739,-63.0279 600.525,-53.8788 597.4386,-45.6913\"/>\n<polygon fill=\"#000000\" stroke=\"#000000\" points=\"600.6877,-44.3878 593.8853,-36.2651 594.1376,-46.8569 600.6877,-44.3878\"/>\n</g>\n<!-- 14 -->\n<g id=\"node15\" class=\"node\">\n<title>14</title>\n<path fill=\"#c0c0c0\" stroke=\"#000000\" d=\"M674,-36C674,-36 644,-36 644,-36 638,-36 632,-30 632,-24 632,-24 632,-12 632,-12 632,-6 638,0 644,0 644,0 674,0 674,0 680,0 686,-6 686,-12 686,-12 686,-24 686,-24 686,-30 680,-36 674,-36\"/>\n<text text-anchor=\"middle\" x=\"659\" y=\"-14.3\" font-family=\"Helvetica,sans-Serif\" font-size=\"14.00\" fill=\"#000000\">(...)</text>\n</g>\n<!-- 12&#45;&gt;14 -->\n<g id=\"edge14\" class=\"edge\">\n<title>12&#45;&gt;14</title>\n<path fill=\"none\" stroke=\"#000000\" d=\"M638.6854,-71.8901C642.0261,-63.0279 645.475,-53.8788 648.5614,-45.6913\"/>\n<polygon fill=\"#000000\" stroke=\"#000000\" points=\"651.8624,-46.8569 652.1147,-36.2651 645.3123,-44.3878 651.8624,-46.8569\"/>\n</g>\n</g>\n</svg>\n"
          },
          "metadata": {},
          "execution_count": 15
        }
      ]
    },
    {
      "cell_type": "markdown",
      "metadata": {
        "id": "IC0TVX4XiHoV"
      },
      "source": [
        "***PROBLEM 2***"
      ]
    },
    {
      "cell_type": "code",
      "metadata": {
        "id": "MK2tdh6fmkU7"
      },
      "source": [
        "features = [\n",
        "    \"radius_extreme\",\n",
        "    \"texture_extreme\",\n",
        "    \"perimeter_extreme\",\n",
        "\n",
        "]\n",
        "label = \"label\"\n",
        "\n",
        "# train test split\n",
        "X_raw, X_raw_test, Y, Y_test = train_test_split(cancer[features].values, cancer[label].values, test_size=0.2, random_state=42)\n",
        "\n",
        "# Standardize the input\n",
        "scaler = StandardScaler()\n",
        "scaler.fit(X_raw)\n",
        "X = scaler.transform(X_raw)\n",
        "X_test = scaler.transform(X_raw_test)\n",
        "\n",
        "# formatting\n",
        "Y = Y.reshape((-1, 1))\n",
        "Y_test = Y_test.reshape((-1, 1))"
      ],
      "execution_count": 16,
      "outputs": []
    },
    {
      "cell_type": "code",
      "metadata": {
        "colab": {
          "base_uri": "https://localhost:8080/",
          "height": 0
        },
        "id": "ws3A8HwHnM2b",
        "outputId": "3abd55fe-3646-4f37-8a71-5b0d9fbc57ce"
      },
      "source": [
        "def sigmoid(x):\n",
        "    \"\"\"Calculates sigmoid function.\"\"\"\n",
        "    return 1. / (1 + np.exp(-x))\n",
        "\n",
        "def reLU(x):\n",
        "    return np.maximum(0.0,x)\n",
        "\n",
        "# parameters for the first layer\n",
        "W_1 = np.ones((5, X.shape[1]))\n",
        "print(f\"Shape of W_1 is {W_1.shape}\")\n",
        "\n",
        "b_1 = np.ones((5, 1))*0.1\n",
        "print(f\"Shape of b_1 is {b_1.shape}\")\n",
        "\n",
        "# parameters for the second layer\n",
        "W_2 = np.ones((1, 5))\n",
        "print(f\"Shape of W_2 is {W_2.shape}\")\n",
        "\n",
        "b_2 = np.ones((1, 1))*0.1\n",
        "print(f\"Shape of b_2 is {b_2.shape}\")\n",
        "\n",
        "# calculate the forward propagation\n",
        "Z_1 = X @ W_1.T\n",
        "print(f\"\\nShape of Z_1 is {Z_1.shape}\")\n",
        "print(\"Samples for Z_1:\")\n",
        "print(Z_1[:5])\n",
        "\n",
        "A_1 = reLU(Z_1 + b_1.T) \n",
        "print(f\"Shape of A_1 is {A_1.shape}\")\n",
        "print(\"Samples for A_1:\")\n",
        "print(A_1[:5])\n",
        "\n",
        "Z_2 = A_1 @ W_2.T\n",
        "print(f\"\\nShape of Z_2 is {Z_2.shape}\")\n",
        "print(\"Samples for Z_2:\")\n",
        "print(Z_1[:5])\n",
        "\n",
        "A_2 = Y_hat = sigmoid(Z_2 + b_2.T)\n",
        "print(f\"Shape of A_2 is {A_2.shape}\")\n",
        "print(\"Samples for A_2:\")\n",
        "print(A_2[:5])"
      ],
      "execution_count": 17,
      "outputs": [
        {
          "output_type": "stream",
          "name": "stdout",
          "text": [
            "Shape of W_1 is (5, 3)\n",
            "Shape of b_1 is (5, 1)\n",
            "Shape of W_2 is (1, 5)\n",
            "Shape of b_2 is (1, 1)\n",
            "\n",
            "Shape of Z_1 is (455, 5)\n",
            "Samples for Z_1:\n",
            "[[-2.95709089 -2.95709089 -2.95709089 -2.95709089 -2.95709089]\n",
            " [ 5.56621025  5.56621025  5.56621025  5.56621025  5.56621025]\n",
            " [-3.58131533 -3.58131533 -3.58131533 -3.58131533 -3.58131533]\n",
            " [-0.10923906 -0.10923906 -0.10923906 -0.10923906 -0.10923906]\n",
            " [-3.53688319 -3.53688319 -3.53688319 -3.53688319 -3.53688319]]\n",
            "Shape of A_1 is (455, 5)\n",
            "Samples for A_1:\n",
            "[[0.         0.         0.         0.         0.        ]\n",
            " [5.66621025 5.66621025 5.66621025 5.66621025 5.66621025]\n",
            " [0.         0.         0.         0.         0.        ]\n",
            " [0.         0.         0.         0.         0.        ]\n",
            " [0.         0.         0.         0.         0.        ]]\n",
            "\n",
            "Shape of Z_2 is (455, 1)\n",
            "Samples for Z_2:\n",
            "[[-2.95709089 -2.95709089 -2.95709089 -2.95709089 -2.95709089]\n",
            " [ 5.56621025  5.56621025  5.56621025  5.56621025  5.56621025]\n",
            " [-3.58131533 -3.58131533 -3.58131533 -3.58131533 -3.58131533]\n",
            " [-0.10923906 -0.10923906 -0.10923906 -0.10923906 -0.10923906]\n",
            " [-3.53688319 -3.53688319 -3.53688319 -3.53688319 -3.53688319]]\n",
            "Shape of A_2 is (455, 1)\n",
            "Samples for A_2:\n",
            "[[0.52497919]\n",
            " [1.        ]\n",
            " [0.52497919]\n",
            " [0.52497919]\n",
            " [0.52497919]]\n"
          ]
        }
      ]
    },
    {
      "cell_type": "code",
      "metadata": {
        "id": "YGH-iEHu36Tt"
      },
      "source": [
        "model = Sequential()     \n",
        "model.add(Dense(5, input_shape = (569,3), activation = 'relu'))     \n",
        "model.add(Dense(1, activation = 'sigmoid')) "
      ],
      "execution_count": 18,
      "outputs": []
    },
    {
      "cell_type": "code",
      "metadata": {
        "id": "ZsExQD497I0N"
      },
      "source": [
        "model.compile(optimizer='adam', loss='binary_crossentropy', metrics=['accuracy'])"
      ],
      "execution_count": 19,
      "outputs": []
    },
    {
      "cell_type": "markdown",
      "metadata": {
        "id": "7zS7d2q8_wL1"
      },
      "source": [
        "***PROBLEM 2.1***"
      ]
    },
    {
      "cell_type": "code",
      "metadata": {
        "colab": {
          "base_uri": "https://localhost:8080/",
          "height": 0
        },
        "id": "JzHsnZ5T7S0X",
        "outputId": "eec126fe-5ee0-4744-cd24-7307dd455ce2"
      },
      "source": [
        "model.summary()"
      ],
      "execution_count": 20,
      "outputs": [
        {
          "output_type": "stream",
          "name": "stdout",
          "text": [
            "Model: \"sequential\"\n",
            "_________________________________________________________________\n",
            " Layer (type)                Output Shape              Param #   \n",
            "=================================================================\n",
            " dense (Dense)               (None, 569, 5)            20        \n",
            "                                                                 \n",
            " dense_1 (Dense)             (None, 569, 1)            6         \n",
            "                                                                 \n",
            "=================================================================\n",
            "Total params: 26\n",
            "Trainable params: 26\n",
            "Non-trainable params: 0\n",
            "_________________________________________________________________\n"
          ]
        }
      ]
    },
    {
      "cell_type": "markdown",
      "metadata": {
        "id": "Q8mDYyET_6G8"
      },
      "source": [
        "***PROBLEM 2.2***"
      ]
    },
    {
      "cell_type": "code",
      "metadata": {
        "colab": {
          "base_uri": "https://localhost:8080/",
          "height": 0
        },
        "id": "bFOCqaUKnShX",
        "outputId": "e92b1df5-2fcf-4abe-c871-08127d14ece6"
      },
      "source": [
        "print(np.mean(Y_hat))"
      ],
      "execution_count": 28,
      "outputs": [
        {
          "output_type": "stream",
          "name": "stdout",
          "text": [
            "0.7155332180761279\n"
          ]
        }
      ]
    },
    {
      "cell_type": "code",
      "metadata": {
        "colab": {
          "base_uri": "https://localhost:8080/",
          "height": 0
        },
        "id": "Qep19uX1gzOt",
        "outputId": "6490d0b4-9202-40ac-bdc8-f6c3ccd595d8"
      },
      "source": [
        "avg_prediction = sum((A_2)/A_2.shape[0])[0]\n",
        "print(avg_prediction)"
      ],
      "execution_count": 23,
      "outputs": [
        {
          "output_type": "stream",
          "name": "stdout",
          "text": [
            "0.715533218076125\n"
          ]
        }
      ]
    },
    {
      "cell_type": "markdown",
      "metadata": {
        "id": "SrtZjm49AAo3"
      },
      "source": [
        "***PROBLEM 2.3***"
      ]
    },
    {
      "cell_type": "code",
      "metadata": {
        "colab": {
          "base_uri": "https://localhost:8080/",
          "height": 0
        },
        "id": "1HiJh1fPnW46",
        "outputId": "959ccf05-c8af-4527-c046-997f6545b5bf"
      },
      "source": [
        "loss = -np.mean(np.multiply(Y, np.log(Y_hat)) + np.multiply(1 - Y, np.log(1 - Y_hat+1E-16)))\n",
        "print(loss)"
      ],
      "execution_count": 26,
      "outputs": [
        {
          "output_type": "stream",
          "name": "stdout",
          "text": [
            "0.6983866220951158\n"
          ]
        }
      ]
    }
  ]
}